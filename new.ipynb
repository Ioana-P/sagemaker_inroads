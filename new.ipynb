{
 "cells": [
  {
   "cell_type": "code",
   "execution_count": null,
   "metadata": {},
   "outputs": [],
   "source": [
    "import boto3\n",
    "import pickle\n",
    "import pandas as pd\n",
    "from io import StringIO\n",
    "import io\n",
    "\n",
    "!pip install gensim\n",
    "from gensim.models.word2vec import Word2Vec\n",
    "from sklearn.cluster import KMeans;\n",
    "from sklearn.neighbors import KDTree\n",
    "import numpy as np"
   ]
  },
  {
   "cell_type": "code",
   "execution_count": null,
   "metadata": {},
   "outputs": [],
   "source": [
    "##input data"
   ]
  },
  {
   "cell_type": "code",
   "execution_count": null,
   "metadata": {},
   "outputs": [],
   "source": []
  },
  {
   "cell_type": "code",
   "execution_count": null,
   "metadata": {},
   "outputs": [],
   "source": [
    "## download search table"
   ]
  },
  {
   "cell_type": "code",
   "execution_count": null,
   "metadata": {},
   "outputs": [],
   "source": [
    "s3 = boto3.client('s3')\n",
    "\n",
    "object = s3.get_object(Bucket='inroads-test-bucket1',Key='data/Vectorized/.csv')\n",
    "search_table = pd.read_csv(io.BytesIO(object['Body'].read()), encoding='utf8', index_col=0)\n",
    "\n",
    "search_table.shape"
   ]
  },
  {
   "cell_type": "code",
   "execution_count": null,
   "metadata": {},
   "outputs": [],
   "source": [
    "## format"
   ]
  },
  {
   "cell_type": "code",
   "execution_count": 90,
   "metadata": {},
   "outputs": [],
   "source": [
    "old_vectors_2 = list()\n",
    "\n",
    "for i in range(0,len(old_vectorized)):\n",
    "    test = old_vectorized.iloc[i].vector\n",
    "    test_2 = str(test)[1:-1] \n",
    "    test_2 = Convert(test_2)\n",
    "    while(\"\" in test_2) : \n",
    "        test_2.remove(\"\")\n",
    "    test_2 = list(map(lambda s: s.strip(), test_2))\n",
    "    test_2 = np.array(test_2)\n",
    "    old_vectors_2.append(test_2)"
   ]
  },
  {
   "cell_type": "code",
   "execution_count": 148,
   "metadata": {},
   "outputs": [],
   "source": [
    "old_array = np.array(old_vectors_2)"
   ]
  },
  {
   "cell_type": "code",
   "execution_count": 149,
   "metadata": {
    "collapsed": true,
    "jupyter": {
     "outputs_hidden": true
    }
   },
   "outputs": [
    {
     "data": {
      "text/plain": [
       "<bound method NDFrame.head of             0         1         2         3         4         5         6  \\\n",
       "0    0.009340 -0.011540 -0.005011  0.170543 -0.070042 -0.022673  0.035479   \n",
       "1    0.073121 -0.047603  0.091147  0.162190 -0.052149 -0.108441 -0.028311   \n",
       "2    0.013254  0.050222 -0.089445  0.083483 -0.044747 -0.065899  0.019941   \n",
       "3    0.017232 -0.138262 -0.069550  0.161501 -0.024385 -0.121781 -0.035268   \n",
       "4   -0.056970  0.020302 -0.024677 -0.048865  0.064803 -0.033035 -0.029016   \n",
       "..        ...       ...       ...       ...       ...       ...       ...   \n",
       "936 -0.021196 -0.011311 -0.073023  0.030679  0.117935  0.040947  0.024909   \n",
       "937 -0.028905  0.093232 -0.058349 -0.013379 -0.086675  0.104365  0.064961   \n",
       "938 -0.074280  0.093354 -0.145046  0.006174  0.000712  0.073791  0.088202   \n",
       "939 -0.045976 -0.006391 -0.056196 -0.057425 -0.018857 -0.025275  0.079501   \n",
       "940  0.014605  0.167768 -0.082776 -0.017683 -0.045675  0.065280  0.051255   \n",
       "\n",
       "            7         8         9  ...       290       291       292  \\\n",
       "0   -0.033519  0.038251  0.045745  ...  0.027858  0.024611 -0.013685   \n",
       "1   -0.041613 -0.026646 -0.015232  ...  0.018856  0.007211 -0.080637   \n",
       "2   -0.052136  0.037055 -0.078439  ...  0.043838  0.002926 -0.050873   \n",
       "3    0.007963  0.047652 -0.019447  ...  0.027821  0.020316 -0.028523   \n",
       "4   -0.020143  0.038997  0.015680  ... -0.071911 -0.002086  0.023876   \n",
       "..        ...       ...       ...  ...       ...       ...       ...   \n",
       "936  0.073402  0.039913  0.030451  ... -0.079502  0.096267  0.060664   \n",
       "937  0.024115  0.153662  0.029945  ...  0.079233 -0.081211 -0.045705   \n",
       "938  0.058804  0.021020  0.019840  ... -0.028003 -0.029557 -0.022236   \n",
       "939  0.044921  0.043905  0.030954  ...  0.089390  0.021395  0.031801   \n",
       "940 -0.045690  0.037330  0.074602  ... -0.044892 -0.049401  0.061406   \n",
       "\n",
       "          293       294       295       296       297       298       299  \n",
       "0    0.042488  0.054621 -0.036383  0.018394 -0.045638  0.025203 -0.052491  \n",
       "1    0.157568 -0.035902 -0.001056 -0.014947 -0.114950 -0.121481  0.031619  \n",
       "2   -0.012946 -0.007152  0.148603  0.109223 -0.019303  0.029999  0.042774  \n",
       "3    0.028286 -0.049850 -0.049433  0.133848  0.008867 -0.076711  0.042498  \n",
       "4    0.077053  0.024279 -0.043584 -0.053606  0.007344  0.018627 -0.046889  \n",
       "..        ...       ...       ...       ...       ...       ...       ...  \n",
       "936  0.034208 -0.119383  0.066091 -0.133915  0.001732 -0.072120  0.064670  \n",
       "937  0.038298 -0.008489 -0.004637 -0.072350  0.039764 -0.014958  0.071050  \n",
       "938 -0.088852 -0.003609  0.031037  0.097972  0.119025 -0.085960 -0.042356  \n",
       "939  0.014382 -0.027417  0.028251 -0.089081 -0.034247 -0.061705 -0.033233  \n",
       "940  0.076096  0.013065  0.041824 -0.068288 -0.040960 -0.040674  0.035157  \n",
       "\n",
       "[941 rows x 300 columns]>"
      ]
     },
     "execution_count": 149,
     "metadata": {},
     "output_type": "execute_result"
    }
   ],
   "source": [
    "old_vectors_df_2 = old_vectorized.drop(['token','vector'], axis=1)\n",
    "old_vectors_df_2.head"
   ]
  },
  {
   "cell_type": "code",
   "execution_count": null,
   "metadata": {},
   "outputs": [],
   "source": [
    "## search table"
   ]
  },
  {
   "cell_type": "code",
   "execution_count": null,
   "metadata": {},
   "outputs": [],
   "source": []
  },
  {
   "cell_type": "code",
   "execution_count": null,
   "metadata": {},
   "outputs": [],
   "source": [
    "## predict "
   ]
  }
 ],
 "metadata": {
  "kernelspec": {
   "display_name": "conda_python3",
   "language": "python",
   "name": "conda_python3"
  },
  "language_info": {
   "codemirror_mode": {
    "name": "ipython",
    "version": 3
   },
   "file_extension": ".py",
   "mimetype": "text/x-python",
   "name": "python",
   "nbconvert_exporter": "python",
   "pygments_lexer": "ipython3",
   "version": "3.6.10"
  }
 },
 "nbformat": 4,
 "nbformat_minor": 4
}
