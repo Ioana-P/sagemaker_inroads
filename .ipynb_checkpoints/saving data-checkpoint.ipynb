{
 "cells": [
  {
   "cell_type": "code",
   "execution_count": 12,
   "metadata": {},
   "outputs": [],
   "source": [
    "import pandas as pd\n",
    "import pickle\n",
    "import boto3"
   ]
  },
  {
   "cell_type": "code",
   "execution_count": 6,
   "metadata": {},
   "outputs": [],
   "source": [
    "# import pickled raw data\n",
    "inroads_clean = pd.read_pickle(\"final_inroads_clean.pkl\")\n",
    "inroads_tokens = pd.read_pickle(\"clean_inroads_tokens.pkl\")\n",
    "inroads_old = pd.read_pickle(\"inroads_old.pkl\")\n",
    "old_tokens = pd.read_pickle(\"old_tokens.pkl\")"
   ]
  },
  {
   "cell_type": "code",
   "execution_count": 16,
   "metadata": {
    "collapsed": true,
    "jupyter": {
     "outputs_hidden": true
    }
   },
   "outputs": [
    {
     "data": {
      "text/plain": [
       "{'ResponseMetadata': {'RequestId': '0D3E3E02A74F7A50',\n",
       "  'HostId': 'XHOKDp44bcHejEQpgKF37ekjaxw80MKGAD2jWKurGeJT1C6N0zv0dGO8blbZekjQGXsfZPwQONE=',\n",
       "  'HTTPStatusCode': 200,\n",
       "  'HTTPHeaders': {'x-amz-id-2': 'XHOKDp44bcHejEQpgKF37ekjaxw80MKGAD2jWKurGeJT1C6N0zv0dGO8blbZekjQGXsfZPwQONE=',\n",
       "   'x-amz-request-id': '0D3E3E02A74F7A50',\n",
       "   'date': 'Wed, 19 Aug 2020 18:55:14 GMT',\n",
       "   'etag': '\"87e8260e98bc34201760a4c25535d1b8\"',\n",
       "   'content-length': '0',\n",
       "   'server': 'AmazonS3'},\n",
       "  'RetryAttempts': 0},\n",
       " 'ETag': '\"87e8260e98bc34201760a4c25535d1b8\"'}"
      ]
     },
     "execution_count": 16,
     "metadata": {},
     "output_type": "execute_result"
    }
   ],
   "source": [
    "# upload to the above to s3 (4 data sets)\n",
    "s3 = boto3.client('s3')\n",
    "s3.put_object(Bucket='inroads-test-bucket1',Key='data/raw/old_tokens.pkl', Body= 'old_tokens.pkl')"
   ]
  },
  {
   "cell_type": "code",
   "execution_count": 18,
   "metadata": {},
   "outputs": [
    {
     "data": {
      "text/plain": [
       "{'ResponseMetadata': {'RequestId': '51A43585FD8951AE',\n",
       "  'HostId': 'lNsZqV9ZVtr6yXYD3UkAjkbUIKizUiLtBRu6DLeTDp5fBDGuE2jEA2l8l3OTzuvfa1k1q3pE1Lo=',\n",
       "  'HTTPStatusCode': 200,\n",
       "  'HTTPHeaders': {'x-amz-id-2': 'lNsZqV9ZVtr6yXYD3UkAjkbUIKizUiLtBRu6DLeTDp5fBDGuE2jEA2l8l3OTzuvfa1k1q3pE1Lo=',\n",
       "   'x-amz-request-id': '51A43585FD8951AE',\n",
       "   'date': 'Wed, 19 Aug 2020 19:12:26 GMT',\n",
       "   'etag': '\"b7a85eb17fceb540c4bf1a8768859c3b\"',\n",
       "   'content-length': '0',\n",
       "   'server': 'AmazonS3'},\n",
       "  'RetryAttempts': 0},\n",
       " 'ETag': '\"b7a85eb17fceb540c4bf1a8768859c3b\"'}"
      ]
     },
     "execution_count": 18,
     "metadata": {},
     "output_type": "execute_result"
    }
   ],
   "source": [
    "s3 = boto3.client('s3')\n",
    "s3.put_object(Bucket='inroads-test-bucket1',Key='data/Vectorized/inroads_vectorized.csv', Body= 'inroads.pkl')"
   ]
  },
  {
   "cell_type": "code",
   "execution_count": null,
   "metadata": {},
   "outputs": [],
   "source": []
  }
 ],
 "metadata": {
  "kernelspec": {
   "display_name": "conda_python3",
   "language": "python",
   "name": "conda_python3"
  },
  "language_info": {
   "codemirror_mode": {
    "name": "ipython",
    "version": 3
   },
   "file_extension": ".py",
   "mimetype": "text/x-python",
   "name": "python",
   "nbconvert_exporter": "python",
   "pygments_lexer": "ipython3",
   "version": "3.6.10"
  }
 },
 "nbformat": 4,
 "nbformat_minor": 4
}
